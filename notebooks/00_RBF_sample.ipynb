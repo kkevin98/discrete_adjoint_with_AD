{
 "cells": [
  {
   "cell_type": "code",
   "execution_count": 1,
   "metadata": {},
   "outputs": [],
   "source": [
    "include(\"../src/RadialBasisFunction.jl\")\n",
    "\n",
    "using .RadialBasisFunction\n",
    "using LinearAlgebra\n",
    "using JLD2"
   ]
  },
  {
   "cell_type": "markdown",
   "metadata": {},
   "source": [
    "## Defining the problem"
   ]
  },
  {
   "cell_type": "markdown",
   "metadata": {},
   "source": [
    "Points"
   ]
  },
  {
   "cell_type": "code",
   "execution_count": 2,
   "metadata": {},
   "outputs": [
    {
     "data": {
      "text/plain": [
       "0.16110731556870733:0.16110731556870733:6.122077991610879"
      ]
     },
     "metadata": {},
     "output_type": "display_data"
    }
   ],
   "source": [
    "a, b = 0, 2π\n",
    "N = 40\n",
    "X = range(a,b, length=N)\n",
    "boundary_idx = [1, N]\n",
    "X_boundary = X[boundary_idx]\n",
    "internal_idx = 2:(N-1)\n",
    "X_internal = X[internal_idx]"
   ]
  },
  {
   "cell_type": "markdown",
   "metadata": {},
   "source": [
    "Generic steady-state (heat) equation  \n",
    "\n",
    "$$ \\Delta u = q $$"
   ]
  },
  {
   "cell_type": "code",
   "execution_count": 3,
   "metadata": {},
   "outputs": [
    {
     "data": {
      "text/plain": [
       "2-element Vector{Float64}:\n",
       "  0.0\n",
       " -2.4492935982947064e-16"
      ]
     },
     "metadata": {},
     "output_type": "display_data"
    }
   ],
   "source": [
    "u(x) = sin.(x)   # Not known in advance\n",
    "q(x) = -sin.(x)  # Known in advance (param)\n",
    "\n",
    "boundary_conditions = u(X_boundary)"
   ]
  },
  {
   "cell_type": "markdown",
   "metadata": {},
   "source": [
    "The RBF interpolator centered on $\\textit{i-th}$ point of a stencil  \n",
    "\n",
    "$$ u(x) \\approx u^{h}(x) \\coloneqq \\sum_{i=1}^{n} \\alpha_{i} \\varphi(x, x_i) + \\sum_{j=1}^{m} \\beta_{j} p_j(x)"
   ]
  },
  {
   "cell_type": "code",
   "execution_count": 4,
   "metadata": {},
   "outputs": [
    {
     "data": {
      "text/plain": [
       "ddφ (generic function with 1 method)"
      ]
     },
     "metadata": {},
     "output_type": "display_data"
    }
   ],
   "source": [
    "φ(r) = r .^ 3  # r = |x-x_i| ≥ 0\n",
    "ddφ(r) = 6*r   #second derivative d²/dx² (because the differential problem deals with u\" = d²u/dx²)"
   ]
  },
  {
   "cell_type": "markdown",
   "metadata": {},
   "source": [
    "Stencil definition"
   ]
  },
  {
   "cell_type": "code",
   "execution_count": 5,
   "metadata": {},
   "outputs": [
    {
     "data": {
      "text/plain": [
       "7"
      ]
     },
     "metadata": {},
     "output_type": "display_data"
    }
   ],
   "source": [
    "n_points_in_stencil = 7"
   ]
  },
  {
   "cell_type": "markdown",
   "metadata": {},
   "source": [
    "## Solution"
   ]
  },
  {
   "cell_type": "markdown",
   "metadata": {},
   "source": [
    "Solving field equation using RBF approximation"
   ]
  },
  {
   "cell_type": "code",
   "execution_count": 6,
   "metadata": {},
   "outputs": [
    {
     "data": {
      "text/plain": [
       "38-element Vector{Float64}:\n",
       "  0.16230630440607596\n",
       "  0.3184441606794323\n",
       "  0.46639819882924805\n",
       "  0.6024453236002578\n",
       "  0.7229552007955176\n",
       "  0.8247685909891668\n",
       "  0.9052437503888441\n",
       "  0.9622961535265828\n",
       "  0.9944469507504687\n",
       "  1.000861661907953\n",
       "  ⋮\n",
       " -0.9944469507504649\n",
       " -0.96229615352658\n",
       " -0.9052437503888425\n",
       " -0.8247685909891656\n",
       " -0.7229552007955165\n",
       " -0.602445323600257\n",
       " -0.46639819882924743\n",
       " -0.31844416067943265\n",
       " -0.16230630440607627"
      ]
     },
     "metadata": {},
     "output_type": "display_data"
    }
   ],
   "source": [
    "C = global_matrix(X, φ, ddφ, n_points_in_stencil)\n",
    "u_approximated = solve_RBF(C, X, internal_idx, boundary_idx, boundary_conditions, q)"
   ]
  },
  {
   "cell_type": "markdown",
   "metadata": {},
   "source": [
    "## Performances"
   ]
  },
  {
   "cell_type": "code",
   "execution_count": 7,
   "metadata": {},
   "outputs": [
    {
     "data": {
      "text/plain": [
       "0.002042852922791229"
      ]
     },
     "metadata": {},
     "output_type": "display_data"
    }
   ],
   "source": [
    "rel_error_on_u = norm(u_approximated - u(X_internal)) / norm(u(X_internal))"
   ]
  },
  {
   "cell_type": "markdown",
   "metadata": {},
   "source": [
    "## Store results"
   ]
  },
  {
   "cell_type": "code",
   "execution_count": 13,
   "metadata": {},
   "outputs": [
    {
     "name": "stderr",
     "output_type": "stream",
     "text": [
      "WARNING: redefinition of constant resulting_datas_dir. This may fail, cause incorrect answers, or produce other errors.\n"
     ]
    }
   ],
   "source": [
    "# const resulting_datas_dir = \"../results/datas/\"\n",
    "\n",
    "# variable_to_store = Dict(\"C\" => C, \"q\" => q(X), \"f\" => C[internal_idx, internal_idx] * boundary_conditions,\n",
    "#                          \"X\" => X, \"X_internal\" => X_internal, \"X_boundary\" => X_boundary,\n",
    "#                          \"\")\n",
    "# save(resulting_datas_dir * \"vanilla_RBF_problem.jld2\", \"u_num\", u_approximated)\n",
    "# save(resulting_datas_dir * \"vanilla_RBF_solution.jld2\", \"u_num\", u_approximated)"
   ]
  }
 ],
 "metadata": {
  "kernelspec": {
   "display_name": "Julia 1.9.3",
   "language": "julia",
   "name": "julia-1.9"
  },
  "language_info": {
   "file_extension": ".jl",
   "mimetype": "application/julia",
   "name": "julia",
   "version": "1.9.3"
  }
 },
 "nbformat": 4,
 "nbformat_minor": 2
}
