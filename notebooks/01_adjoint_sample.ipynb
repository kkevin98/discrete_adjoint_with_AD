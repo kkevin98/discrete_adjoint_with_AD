{
 "cells": [
  {
   "cell_type": "code",
   "execution_count": 1,
   "metadata": {},
   "outputs": [],
   "source": [
    "include(\"../src/RadialBasisFunction.jl\")\n",
    "include(\"../src/DiscreteAdjoint.jl\")\n",
    "include(\"../src/GradientDescentTools.jl\")\n",
    "\n",
    "using LinearAlgebra\n",
    "using .RadialBasisFunction\n",
    "using .DiscreteAdjoint\n",
    "using .GradientDescentTools"
   ]
  },
  {
   "cell_type": "markdown",
   "metadata": {},
   "source": [
    "## Adjoint method applied to RBF approximation"
   ]
  },
  {
   "cell_type": "markdown",
   "metadata": {},
   "source": [
    "Fixed some paramters, we obtain an approximated field solving the steady-state heat equation"
   ]
  },
  {
   "cell_type": "code",
   "execution_count": 2,
   "metadata": {},
   "outputs": [
    {
     "data": {
      "text/plain": [
       "38-element Vector{Float64}:\n",
       "  0.16230630440607596\n",
       "  0.3184441606794323\n",
       "  0.46639819882924805\n",
       "  0.6024453236002578\n",
       "  0.7229552007955176\n",
       "  0.8247685909891668\n",
       "  0.9052437503888441\n",
       "  0.9622961535265828\n",
       "  0.9944469507504687\n",
       "  1.000861661907953\n",
       "  ⋮\n",
       " -0.9944469507504649\n",
       " -0.96229615352658\n",
       " -0.9052437503888425\n",
       " -0.8247685909891656\n",
       " -0.7229552007955165\n",
       " -0.602445323600257\n",
       " -0.46639819882924743\n",
       " -0.31844416067943265\n",
       " -0.16230630440607627"
      ]
     },
     "metadata": {},
     "output_type": "display_data"
    }
   ],
   "source": [
    "a, b = 0, 2π\n",
    "N = 40\n",
    "X = range(a,b, length=N)\n",
    "boundary_idx = [1, N]\n",
    "X_boundary = X[boundary_idx]\n",
    "internal_idx = 2:(N-1)\n",
    "X_internal = X[internal_idx]\n",
    "\n",
    "\n",
    "u(x) = sin.(x)   # Not known in advance\n",
    "q(x) = -sin.(x)  # Known in advance (param)\n",
    "\n",
    "boundary_conditions = u(X_boundary)\n",
    "\n",
    "\n",
    "φ(r) = r .^ 3  # r = |x-x_i| ≥ 0\n",
    "ddφ(r) = 6*r   #second derivative d²/dx² (because the differential problem deals with u\" = d²u/dx²)\n",
    "\n",
    "\n",
    "n_points_in_stencil = 7\n",
    "\n",
    "\n",
    "C = global_matrix(X, φ, ddφ, n_points_in_stencil)\n",
    "u_approximated = solve_RBF(C, X, internal_idx, boundary_idx, boundary_conditions, q)"
   ]
  },
  {
   "cell_type": "markdown",
   "metadata": {},
   "source": [
    "Now we want to find a specific field, $u_{opt}$, that satisfy some properties defined by $J(u)$. $J$ can be thought as a \"quality\" function if it has to be maximized or as a \"cost\" if it has to be minimized.  \n",
    "To reach our goal we can modify some parameters of the problem. In this case we can modify the value of the function $q$ at each point of the object (so we can decide its shape: thus $q$ itself)  "
   ]
  },
  {
   "cell_type": "code",
   "execution_count": 3,
   "metadata": {},
   "outputs": [
    {
     "data": {
      "text/plain": [
       "error_h (generic function with 1 method)"
      ]
     },
     "metadata": {},
     "output_type": "display_data"
    }
   ],
   "source": [
    "# Note that the optimization is carried out only on internal points (in fact boundary poiints are conditioned)...\n",
    "C_internal = C[internal_idx, internal_idx]\n",
    "\n",
    "# Defininig J (obj function) as follows menas ~> We want to reach a designed u_target\n",
    "u_target(x) = (x .- a) .* (b .- x)\n",
    "u_target_num = u_target(X_internal)\n",
    "J(u_num) = norm(u_num - u_target_num)^2\n",
    "\n",
    "g(u_num) = 2 * (u_num - u_target_num)\n",
    "\n",
    "# Define ideal parameters that leads to u_target\n",
    "h_target_num = C_internal * u_target_num \n",
    "q_target_num = h_target_num + C[internal_idx, boundary_idx]*boundary_conditions\n",
    "error_h(h_num) = norm(h_num-h_target_num)^2"
   ]
  },
  {
   "cell_type": "markdown",
   "metadata": {},
   "source": [
    "Getting the sougth parameters $q$ that leads to the desired field $u_{opt}$"
   ]
  },
  {
   "cell_type": "code",
   "execution_count": 4,
   "metadata": {},
   "outputs": [
    {
     "ename": "MethodError",
     "evalue": "MethodError: Cannot `convert` an object of type Vector{Float64} to an object of type Float64\n\nClosest candidates are:\n  convert(::Type{T}, !Matched::T) where T<:Number\n   @ Base number.jl:6\n  convert(::Type{T}, !Matched::Number) where T<:Number\n   @ Base number.jl:7\n  convert(::Type{T}, !Matched::Base.TwicePrecision) where T<:Number\n   @ Base twiceprecision.jl:273\n  ...\n",
     "output_type": "error",
     "traceback": [
      "MethodError: Cannot `convert` an object of type Vector{Float64} to an object of type Float64\n",
      "\n",
      "Closest candidates are:\n",
      "  convert(::Type{T}, !Matched::T) where T<:Number\n",
      "   @ Base number.jl:6\n",
      "  convert(::Type{T}, !Matched::Number) where T<:Number\n",
      "   @ Base number.jl:7\n",
      "  convert(::Type{T}, !Matched::Base.TwicePrecision) where T<:Number\n",
      "   @ Base twiceprecision.jl:273\n",
      "  ...\n",
      "\n",
      "\n",
      "Stacktrace:\n",
      " [1] setindex!(A::Vector{Float64}, x::Vector{Float64}, i1::Int64)\n",
      "   @ Base ./array.jl:969\n",
      " [2] adjoint_opt_BB(A::Matrix{Float64}, h0::Vector{Float64}, J::typeof(J), g::typeof(g), num_opt_cycles::Int64, BB_step::typeof(BB_long_step), eps::Float64)\n",
      "   @ Main.DiscreteAdjoint ~/Uni/Tesi/thesis_code/src/DiscreteAdjoint.jl:28\n",
      " [3] adjoint_opt_BB(A::Matrix{Float64}, h0::Vector{Float64}, J::Function, g::Function, num_opt_cycles::Int64, BB_step::Function)\n",
      "   @ Main.DiscreteAdjoint ~/Uni/Tesi/thesis_code/src/DiscreteAdjoint.jl:17\n",
      " [4] top-level scope\n",
      "   @ ~/Uni/Tesi/thesis_code/notebooks/01_adjoint_sample.ipynb:4"
     ]
    }
   ],
   "source": [
    "h_0 = C_internal * u_approximated\n",
    "N_opt::Int64 = 1e4\n",
    "\n",
    "h_opt_num, u_opt_num = adjoint_opt_BB(C_internal, h_0, J, g, N_opt, BB_long_step)\n",
    "q_opt_num = h_opt_num + + C[internal_idx, boundary_idx]*boundary_conditions"
   ]
  },
  {
   "cell_type": "markdown",
   "metadata": {},
   "source": [
    "## Performances"
   ]
  },
  {
   "cell_type": "code",
   "execution_count": 5,
   "metadata": {},
   "outputs": [
    {
     "ename": "UndefVarError",
     "evalue": "UndefVarError: `q_opt_num` not defined",
     "output_type": "error",
     "traceback": [
      "UndefVarError: `q_opt_num` not defined\n",
      "\n",
      "Stacktrace:\n",
      " [1] top-level scope\n",
      "   @ ~/Uni/Tesi/thesis_code/notebooks/01_adjoint_sample.ipynb:1"
     ]
    }
   ],
   "source": [
    "relative_error_on_q = norm(q_opt_num - q_target_num) / norm(q_target_num)\n",
    "relative_error_on_u = norm(u_opt_num - u_target_num) / norm(u_target_num)\n",
    "\n",
    "println(\"Relative error on u: $(relative_error_on_u)\")\n",
    "println(\"Relative error on q: $(relative_error_on_q)\")"
   ]
  },
  {
   "cell_type": "code",
   "execution_count": 6,
   "metadata": {},
   "outputs": [
    {
     "ename": "UndefVarError",
     "evalue": "UndefVarError: `h0` not defined",
     "output_type": "error",
     "traceback": [
      "UndefVarError: `h0` not defined\n",
      "\n",
      "Stacktrace:\n",
      " [1] top-level scope\n",
      "   @ ~/Uni/Tesi/thesis_code/notebooks/01_adjoint_sample.ipynb:1"
     ]
    }
   ],
   "source": [
    "tmp = InfoToStep(h0, h0, h0, (h0 .- 100))\n",
    "BB_long_step(tmp)"
   ]
  },
  {
   "cell_type": "code",
   "execution_count": 7,
   "metadata": {},
   "outputs": [
    {
     "ename": "MethodError",
     "evalue": "MethodError: no method matching adjoint_opt_BB(::Matrix{Float64}, ::Vector{Float64}, ::typeof(J), ::typeof(g), ::Float64, ::typeof(BB_long_step), ::Float64)\n\nClosest candidates are:\n  adjoint_opt_BB(::Any, ::Any, ::Any, ::Any, !Matched::Int64, ::Any, ::Any)\n   @ Main.DiscreteAdjoint ~/Uni/Tesi/thesis_code/src/DiscreteAdjoint.jl:7\n  adjoint_opt_BB(::Any, ::Any, ::Any, ::Any, !Matched::Int64, ::Any)\n   @ Main.DiscreteAdjoint ~/Uni/Tesi/thesis_code/src/DiscreteAdjoint.jl:7\n",
     "output_type": "error",
     "traceback": [
      "MethodError: no method matching adjoint_opt_BB(::Matrix{Float64}, ::Vector{Float64}, ::typeof(J), ::typeof(g), ::Float64, ::typeof(BB_long_step), ::Float64)\n",
      "\n",
      "Closest candidates are:\n",
      "  adjoint_opt_BB(::Any, ::Any, ::Any, ::Any, !Matched::Int64, ::Any, ::Any)\n",
      "   @ Main.DiscreteAdjoint ~/Uni/Tesi/thesis_code/src/DiscreteAdjoint.jl:7\n",
      "  adjoint_opt_BB(::Any, ::Any, ::Any, ::Any, !Matched::Int64, ::Any)\n",
      "   @ Main.DiscreteAdjoint ~/Uni/Tesi/thesis_code/src/DiscreteAdjoint.jl:7\n",
      "\n",
      "\n",
      "Stacktrace:\n",
      " [1] top-level scope\n",
      "   @ ~/Uni/Tesi/thesis_code/notebooks/01_adjoint_sample.ipynb:4"
     ]
    }
   ],
   "source": [
    "h0 = q(X[internal_idx]) - C[internal_idx, boundary_idx]*boundary_conditions\n",
    "N_iter = 1e4\n",
    "\n",
    "h_opt, u_opt = adjoint_opt_BB(C[internal_idx, internal_idx], h0, J, g, N_iter, BB_long_step, 10^(-14))\n",
    "q_opt = h_opt + C[internal_idx, boundary_idx]*boundary_conditions\n",
    "println(\"Fitness value is: $(J(u_opt))\")\n",
    "println(\"Errors on the obtained q: $(q_opt - q_target_num)\")\n",
    "println(\"Errors on the obtained u: $(u_opt - u_target_num)\")\n",
    "println(\"Relative error on u: $(norm(u_opt - u_target_num) / norm(u_target_num))\")\n",
    "println(\"Relative error on q: $(norm(q_opt - q_target_num) / norm(q_target_num))\")"
   ]
  }
 ],
 "metadata": {
  "kernelspec": {
   "display_name": "Julia 1.9.3",
   "language": "julia",
   "name": "julia-1.9"
  },
  "language_info": {
   "file_extension": ".jl",
   "mimetype": "application/julia",
   "name": "julia",
   "version": "1.9.3"
  }
 },
 "nbformat": 4,
 "nbformat_minor": 2
}
