{
 "cells": [
  {
   "cell_type": "code",
   "execution_count": 1,
   "metadata": {},
   "outputs": [],
   "source": [
    "include(\"../src/RadialBasisFunction.jl\")\n",
    "include(\"../src/DiscreteAdjoint.jl\")\n",
    "include(\"../src/GradientDescentTools.jl\")\n",
    "\n",
    "using LinearAlgebra\n",
    "using .RadialBasisFunction\n",
    "using .DiscreteAdjoint\n",
    "using .GradientDescentTools"
   ]
  },
  {
   "cell_type": "markdown",
   "metadata": {},
   "source": [
    "## Adjoint method applied to RBF approximation"
   ]
  },
  {
   "cell_type": "markdown",
   "metadata": {},
   "source": [
    "Fixed some paramters, we obtain an approximated field solving the steady-state heat equation"
   ]
  },
  {
   "cell_type": "code",
   "execution_count": 2,
   "metadata": {},
   "outputs": [
    {
     "data": {
      "text/plain": [
       "38-element Vector{Float64}:\n",
       "  0.16230630440607596\n",
       "  0.3184441606794323\n",
       "  0.46639819882924805\n",
       "  0.6024453236002578\n",
       "  0.7229552007955176\n",
       "  0.8247685909891668\n",
       "  0.9052437503888441\n",
       "  0.9622961535265828\n",
       "  0.9944469507504687\n",
       "  1.000861661907953\n",
       "  ⋮\n",
       " -0.9944469507504649\n",
       " -0.96229615352658\n",
       " -0.9052437503888425\n",
       " -0.8247685909891656\n",
       " -0.7229552007955165\n",
       " -0.602445323600257\n",
       " -0.46639819882924743\n",
       " -0.31844416067943265\n",
       " -0.16230630440607627"
      ]
     },
     "metadata": {},
     "output_type": "display_data"
    }
   ],
   "source": [
    "a, b = 0, 2π\n",
    "N = 40\n",
    "X = range(a,b, length=N)\n",
    "boundary_idx = [1, N]\n",
    "X_boundary = X[boundary_idx]\n",
    "internal_idx = 2:(N-1)\n",
    "X_internal = X[internal_idx]\n",
    "\n",
    "\n",
    "u(x) = sin.(x)   # Not known in advance\n",
    "q(x) = -sin.(x)  # Known in advance (param)\n",
    "\n",
    "boundary_conditions = u(X_boundary)\n",
    "\n",
    "\n",
    "φ(r) = r .^ 3  # r = |x-x_i| ≥ 0\n",
    "ddφ(r) = 6*r   #second derivative d²/dx² (because the differential problem deals with u\" = d²u/dx²)\n",
    "\n",
    "\n",
    "n_points_in_stencil = 7\n",
    "\n",
    "\n",
    "C = global_matrix(X, φ, ddφ, n_points_in_stencil)\n",
    "u_approximated = solve_RBF(C, X, internal_idx, boundary_idx, boundary_conditions, q)"
   ]
  },
  {
   "cell_type": "markdown",
   "metadata": {},
   "source": [
    "Now we want to find a specific field, $u_{opt}$, that satisfy some properties defined by $J(u)$. $J$ can be thought as a \"quality\" function if it has to be maximized or as a \"cost\" if it has to be minimized.  \n",
    "To reach our goal we can modify some parameters of the problem. In this case we can modify the value of the function $q$ at each point of the object (so we can decide its shape: thus $q$ itself)  "
   ]
  },
  {
   "cell_type": "code",
   "execution_count": 3,
   "metadata": {},
   "outputs": [
    {
     "data": {
      "text/plain": [
       "error_h (generic function with 1 method)"
      ]
     },
     "metadata": {},
     "output_type": "display_data"
    }
   ],
   "source": [
    "# Note that the optimization is carried out only on internal points (in fact boundary poiints are conditioned)...\n",
    "C_internal = C[internal_idx, internal_idx]\n",
    "\n",
    "# Defininig J (obj function) as follows menas ~> We want to reach a designed u_target\n",
    "u_target(x) = (x .- a) .* (b .- x)\n",
    "u_target_num = u_target(X_internal)\n",
    "J(u_num) = norm(u_num - u_target_num)^2\n",
    "\n",
    "g(u_num) = 2 * (u_num - u_target_num)\n",
    "\n",
    "# Define ideal parameters that leads to u_target\n",
    "h_target_num = C_internal * u_target_num \n",
    "q_target_num = h_target_num + C[internal_idx, boundary_idx]*boundary_conditions\n",
    "error_h(h_num) = norm(h_num-h_target_num)^2"
   ]
  },
  {
   "cell_type": "markdown",
   "metadata": {},
   "source": [
    "Getting the sougth parameters $q$ that leads to the desired field $u_{opt}$"
   ]
  },
  {
   "cell_type": "code",
   "execution_count": 4,
   "metadata": {},
   "outputs": [
    {
     "data": {
      "text/plain": [
       "38-element Vector{Float64}:\n",
       " -1.9999999246579396\n",
       " -2.000000155206049\n",
       " -1.9999997815552175\n",
       " -2.000000267900302\n",
       " -1.9999997014376807\n",
       " -2.0000003096530254\n",
       " -1.9999996974140248\n",
       " -2.000000280039484\n",
       " -1.9999997539957215\n",
       " -2.0000002048682024\n",
       "  ⋮\n",
       " -1.9999997768071243\n",
       " -2.0000002556316576\n",
       " -1.9999997225147914\n",
       " -2.000000284970659\n",
       " -1.999999724539428\n",
       " -2.0000002476554997\n",
       " -1.9999997977895774\n",
       " -2.0000001438195083\n",
       " -1.9999999301273892"
      ]
     },
     "metadata": {},
     "output_type": "display_data"
    }
   ],
   "source": [
    "h_0 = C_internal * u_approximated\n",
    "N_opt = 1e4\n",
    "\n",
    "h_opt_num, u_opt_num = adjoint_opt_BB(C_internal, h_0, J, g, N_opt, BB_long_step)\n",
    "q_opt_num = h_opt_num + + C[internal_idx, boundary_idx]*boundary_conditions"
   ]
  },
  {
   "cell_type": "markdown",
   "metadata": {},
   "source": [
    "## Performances"
   ]
  },
  {
   "cell_type": "code",
   "execution_count": 5,
   "metadata": {},
   "outputs": [
    {
     "name": "stdout",
     "output_type": "stream",
     "text": [
      "Relative error on u: 5.6570266610036386e-11\n",
      "Relative error on q: 8.903298821272255e-8\n"
     ]
    }
   ],
   "source": [
    "relative_error_on_q = norm(q_opt_num - q_target_num) / norm(q_target_num)\n",
    "relative_error_on_u = norm(u_opt_num - u_target_num) / norm(u_target_num)\n",
    "\n",
    "println(\"Relative error on u: $(relative_error_on_u)\")\n",
    "println(\"Relative error on q: $(relative_error_on_q)\")"
   ]
  },
  {
   "cell_type": "code",
   "execution_count": 7,
   "metadata": {},
   "outputs": [
    {
     "name": "stdout",
     "output_type": "stream",
     "text": [
      "Fitness value is: 1.691663124421444e-16\n"
     ]
    },
    {
     "name": "stdout",
     "output_type": "stream",
     "text": [
      "Errors on the obtained q: [-4.111116025384831e-7, 8.430995495078974e-7, -1.1798254431205635e-6, 1.432796862488317e-6, -1.5752640529775874e-6, 1.6072680055767563e-6, -1.5413140381781432e-6, 1.3957606352921204e-6, -1.194570854234911e-6, 9.633345203763355e-7, -7.274159696812887e-7, 5.072434521302682e-7, -3.185547843287395e-7, 1.7012809649941119e-7, -6.520061157644363e-8, 1.7392232098956129e-9, 2.6133885056012218e-8, -2.672942533976652e-8, 1.0074708178819947e-8, 1.3243232732662591e-8, -3.233291323567755e-8, 3.6537456171714666e-8, -1.6028207650009563e-8, -3.769955059240715e-8, 1.3060312564761034e-7, -2.649781185581901e-7, 4.3854503339879614e-7, -6.427947027987102e-7, 8.639953315014992e-7, -1.0819910909454222e-6, 1.273878700747133e-6, -1.4143536568589354e-6, 1.4812803654784545e-6, -1.456427245472014e-6, 1.3279473867200409e-6, -1.0954334874746507e-6, 7.836365472080331e-7, -3.8250568623610093e-7]\n",
      "Errors on the obtained u: [9.935791078774514e-10, -1.954612693921831e-9, 2.8036675203679806e-9, -3.3685516598325194e-9, 3.727483210980154e-9, -3.728386488432989e-9, 3.618102262237244e-9, -3.1899523023071197e-9, 2.7721398510038853e-9, -2.1445396569674813e-9, 1.654401948769646e-9, -1.0728626875788905e-9, 6.913083439030743e-10, -3.0679991880333546e-10, 1.0732215116604493e-10, 5.093525601296278e-11, -9.109335508128424e-11, 8.061107337198337e-11, -3.801936543368356e-11, -4.672529030358419e-11, 7.624656461757695e-11, -1.3523759889721987e-10, 5.361755484045716e-11, 2.872369009310205e-12, -2.764561912727004e-10, 5.052598339716496e-10, -9.939800094116436e-10, 1.3803767018316648e-9, -2.0027828284696625e-9, 2.4287230004915727e-9, -2.989298586442146e-9, 3.250117508457606e-9, -3.5000589093669987e-9, 3.396412040501673e-9, -3.165501638591195e-9, 2.5745974241431213e-9, -1.8383008448807914e-9, 9.151621682690347e-10]\n",
      "Relative error on u: 2.8895194505845153e-10\n",
      "Relative error on q: 4.5354930530835393e-7\n"
     ]
    }
   ],
   "source": [
    "h0 = q(X[internal_idx]) - C[internal_idx, boundary_idx]*boundary_conditions\n",
    "N_iter = 1e4\n",
    "\n",
    "h_opt, u_opt = adjoint_opt_BB(C[internal_idx, internal_idx], h0, J, g, N_iter, BB_long_step, 10^(-14))\n",
    "q_opt = h_opt + C[internal_idx, boundary_idx]*boundary_conditions\n",
    "println(\"Fitness value is: $(J(u_opt))\")\n",
    "println(\"Errors on the obtained q: $(q_opt - q_target_num)\")\n",
    "println(\"Errors on the obtained u: $(u_opt - u_target_num)\")\n",
    "println(\"Relative error on u: $(norm(u_opt - u_target_num) / norm(u_target_num))\")\n",
    "println(\"Relative error on q: $(norm(q_opt - q_target_num) / norm(q_target_num))\")"
   ]
  }
 ],
 "metadata": {
  "kernelspec": {
   "display_name": "Julia 1.9.3",
   "language": "julia",
   "name": "julia-1.9"
  },
  "language_info": {
   "file_extension": ".jl",
   "mimetype": "application/julia",
   "name": "julia",
   "version": "1.9.3"
  }
 },
 "nbformat": 4,
 "nbformat_minor": 2
}
