{
 "cells": [
  {
   "cell_type": "code",
   "execution_count": 1,
   "metadata": {},
   "outputs": [
    {
     "data": {
      "text/plain": [
       "\"../results/figures/\""
      ]
     },
     "execution_count": 1,
     "metadata": {},
     "output_type": "execute_result"
    }
   ],
   "source": [
    "include(\"../src/RadialBasisFunction.jl\")\n",
    "include(\"../src/DiscreteAdjoint.jl\")\n",
    "include(\"../src/GradientDescentTools.jl\")\n",
    "\n",
    "using LinearAlgebra, Plots\n",
    "using .RadialBasisFunction\n",
    "using .DiscreteAdjoint\n",
    "using .GradientDescentTools\n",
    "\n",
    "const dir_for_figures = \"../results/figures/\"\n"
   ]
  },
  {
   "cell_type": "markdown",
   "metadata": {},
   "source": [
    "## Adjoint method applied to RBF approximation"
   ]
  },
  {
   "cell_type": "markdown",
   "metadata": {},
   "source": [
    "Fixed some paramters, we obtain an approximated field solving the steady-state heat equation"
   ]
  },
  {
   "cell_type": "code",
   "execution_count": 2,
   "metadata": {},
   "outputs": [
    {
     "data": {
      "text/plain": [
       "38-element Vector{Float64}:\n",
       "  0.16230630440607596\n",
       "  0.3184441606794323\n",
       "  0.46639819882924805\n",
       "  0.6024453236002578\n",
       "  0.7229552007955176\n",
       "  0.8247685909891668\n",
       "  0.9052437503888441\n",
       "  0.9622961535265828\n",
       "  0.9944469507504687\n",
       "  1.000861661907953\n",
       "  0.9813722655566661\n",
       "  0.9364816555570994\n",
       "  0.8673506134657445\n",
       "  ⋮\n",
       " -0.9364816555570911\n",
       " -0.9813722655566596\n",
       " -1.000861661907948\n",
       " -0.9944469507504649\n",
       " -0.96229615352658\n",
       " -0.9052437503888425\n",
       " -0.8247685909891656\n",
       " -0.7229552007955165\n",
       " -0.602445323600257\n",
       " -0.46639819882924743\n",
       " -0.31844416067943265\n",
       " -0.16230630440607627"
      ]
     },
     "execution_count": 2,
     "metadata": {},
     "output_type": "execute_result"
    }
   ],
   "source": [
    "a, b = 0, 2π\n",
    "N = 40\n",
    "X = range(a,b, length=N)\n",
    "boundary_idx = [1, N]\n",
    "X_boundary = X[boundary_idx]\n",
    "internal_idx = 2:(N-1)\n",
    "X_internal = X[internal_idx]\n",
    "\n",
    "\n",
    "u(x) = sin.(x)   # Not known in advance\n",
    "q(x) = -sin.(x)  # Known in advance (param)\n",
    "\n",
    "boundary_conditions = u(X_boundary)\n",
    "\n",
    "\n",
    "φ(r) = r .^ 3  # r = |x-x_i| ≥ 0\n",
    "ddφ(r) = 6*r   #second derivative d²/dx² (because the differential problem deals with u\" = d²u/dx²)\n",
    "\n",
    "\n",
    "n_points_in_stencil = 7\n",
    "\n",
    "\n",
    "C = global_matrix(X, φ, ddφ, n_points_in_stencil)\n",
    "u_approximated = solve_RBF(C, X, internal_idx, boundary_idx, boundary_conditions, q)"
   ]
  },
  {
   "cell_type": "markdown",
   "metadata": {},
   "source": [
    "Now we want to find a specific field, $u_{opt}$, that satisfy some properties defined by $J(u)$. $J$ can be thought as a \"quality\" function if it has to be maximized or as a \"cost\" if it has to be minimized. Let's define it:"
   ]
  },
  {
   "cell_type": "code",
   "execution_count": 3,
   "metadata": {},
   "outputs": [
    {
     "data": {
      "text/plain": [
       "q_relative_error (generic function with 1 method)"
      ]
     },
     "execution_count": 3,
     "metadata": {},
     "output_type": "execute_result"
    }
   ],
   "source": [
    "# Note that the optimization is carried out only on internal points (in fact boundary poiints are conditioned)...\n",
    "C_internal = C[internal_idx, internal_idx]\n",
    "\n",
    "# Defininig J (obj function) as follows menas ~> We want to reach a designed u_target\n",
    "u_target(x) = (x .- a) .* (b .- x)\n",
    "u_target_num = u_target(X_internal)\n",
    "J(u_num) = norm(u_num - u_target_num)^2\n",
    "\n",
    "# Define ideal parameters that leads to u_target and error functions on parameters\n",
    "q_target_num = C_internal*u_target_num + C[internal_idx, boundary_idx] * boundary_conditions\n",
    "q_error(q_num) = norm(q_num - q_target_num)\n",
    "q_relative_error(q_num) = q_error(q_num) / norm(q_target_num)\n"
   ]
  },
  {
   "cell_type": "markdown",
   "metadata": {},
   "source": [
    "Set up everything that is required for the optimization with the adjoint method"
   ]
  },
  {
   "cell_type": "code",
   "execution_count": 4,
   "metadata": {},
   "outputs": [
    {
     "data": {
      "text/plain": [
       "10"
      ]
     },
     "execution_count": 4,
     "metadata": {},
     "output_type": "execute_result"
    }
   ],
   "source": [
    "# Partial derivative of J (used to compute the total derivative of J respect q)\n",
    "dJdu(u_num, q_num) = 2*(u_num - u_target_num)\n",
    "dJdq(u_num, q_num) = zeros(size(q_num))\n",
    "\n",
    "# Defining the initial values of the constraint with the ones obtained from the RBF approximation\n",
    "u_RBF = u_approximated\n",
    "f_RBF = C[internal_idx, boundary_idx] * boundary_conditions\n",
    "q_RBF = C_internal*u_RBF + f_RBF\n",
    "constraint = RBFEquation(C_internal, u_RBF, q_RBF, f_RBF)\n",
    "\n",
    "N_iter::Int64 = 1e4    # Number of optimization cycles\n",
    "eval_freq::Int64 = 10  # Frequency of evaluation of the objective function"
   ]
  },
  {
   "cell_type": "markdown",
   "metadata": {},
   "source": [
    "To reach our goal we can modify some parameters of the problem. In this case we can modify the value of the function $q$ at each point of the object (so we can decide its shape: thus $q$ itself).\n",
    "To get the sougth parameters $q$ that leads to the desired field $u_{opt}$ we use different iterative gradient methods in the discrete adjoint optimization:\n",
    "- Barzilai-Borwein with long steps\n",
    "- Barzilai-Borwein with short steps\n",
    "- Standard gradient update with fixed steps "
   ]
  },
  {
   "cell_type": "code",
   "execution_count": 5,
   "metadata": {},
   "outputs": [
    {
     "name": "stdout",
     "output_type": "stream",
     "text": [
      "Optimum was found at iterations 6388, before the end\n"
     ]
    },
    {
     "data": {
      "text/plain": [
       "([-1.2388338035894413, -1.9982422629925298, -2.2394456010367976, -2.1949446895067912, -2.0952845012896972, -1.9923225064123382, -1.9919315975781002, -2.03604593452323, -2.078092655830196, -2.1013258838520743  …  -2.102260100818814, -2.0790570490488895, -2.0354934441851062, -1.9883590704672482, -1.9888968874260415, -2.1035451293521534, -2.1960498753042055, -2.238512052363206, -1.9960606947027475, -1.2337398378320446], [1.0137592286762775, 1.9889646902281741, 2.914546358550524, 3.7831714806493477, 4.594749775346762, 5.351841997280724, 6.056841370999185, 6.710044700220561, 7.310466192730675, 7.857024950770411  …  7.85704507953065, 7.310463421164422, 6.7100003456806165, 6.056779573621542, 5.351843095240173, 4.594852432403491, 3.78324087165425, 2.9145280382709786, 1.9888776021359036, 1.0136671965919775], [-0.16041128085776568 -0.324753524851647 … -1.2386120847097566 -1.2388338035894413; -0.3166679938014729 -0.6509059768949845 … -1.9980420653791011 -1.9982422629925298; … ; 0.3166679938014706 -0.08806712440868046 … -1.9958574143490924 -1.9960606947027475; 0.16041128085776143 -0.03895116168594841 … -1.233515278217669 -1.2337398378320446], [0.16230630440607596 0.8764416149082925 … 1.013753733097386 1.0137592286762775; 0.3184441606794323 1.7401772357439387 … 1.98895854578261 1.9889646902281741; … ; -0.31844416067943265 1.1749334493993824 … 1.9888713701390122 1.9888776021359036; -0.16230630440607627 0.588334650735224 … 1.0136616253335577 1.0136671965919775], 0:10:10000)"
      ]
     },
     "execution_count": 5,
     "metadata": {},
     "output_type": "execute_result"
    }
   ],
   "source": [
    "q_opt_BB_long_num, u_opt_BB_long_num, q_results_BB_long, u_results_BB_long, steps_to_eval = adjoint_opt_BB(dJdu, dJdq, constraint, N_iter, eval_freq, BB_long_step)\n",
    "\n",
    "q_opt_BB_short_num, u_opt_BB_short_num, q_results_BB_short, u_results_BB_short = adjoint_opt_BB(dJdu, dJdq, constraint, N_iter, eval_freq, BB_short_step)\n",
    "\n",
    "step_size(∇, n) = 1/norm(∇)\n",
    "q_opt_grad_fixed_steps_num, u_opt_grad_fixed_steps_num, q_results_grad_fixed_steps, u_results_grad_fixed_steps = adjoint_opt(dJdu, dJdq, constraint, N_iter, eval_freq, step_size)"
   ]
  },
  {
   "cell_type": "markdown",
   "metadata": {},
   "source": [
    "## Performances"
   ]
  },
  {
   "cell_type": "code",
   "execution_count": 6,
   "metadata": {},
   "outputs": [
    {
     "name": "stdout",
     "output_type": "stream",
     "text": [
      "Barzilai-Borwein long steps\n",
      "Fitness value: 6.775462544444628e-17\n",
      "Relative error on u: 1.8286818539137083e-10\n",
      "Relative error on q: 2.5555586106513664e-7\n",
      "\n",
      "Barzilai-Borwein short steps\n",
      "Fitness value: 7.400623733315896e-12\n",
      "Relative error on u: 6.043699228582371e-8\n",
      "Relative error on q: 8.959538628258105e-5\n",
      "\n",
      "Standard gradient fixed steps\n",
      "Fitness value: 4.076926017770504\n",
      "Relative error on u: 0.0448575031475819\n",
      "Relative error on q: 0.10315492049339207\n"
     ]
    }
   ],
   "source": [
    "println(\"Barzilai-Borwein long steps\")\n",
    "println(\"Fitness value: $(J(u_opt_BB_long_num))\")\n",
    "println(\"Relative error on u: $(norm(u_opt_BB_long_num - u_target_num) / norm(u_target_num))\")\n",
    "println(\"Relative error on q: $(q_relative_error(q_opt_BB_long_num))\")\n",
    "println()\n",
    "\n",
    "println(\"Barzilai-Borwein short steps\")\n",
    "println(\"Fitness value: $(J(u_opt_BB_short_num))\")\n",
    "println(\"Relative error on u: $(norm(u_opt_BB_short_num - u_target_num) / norm(u_target_num))\")\n",
    "println(\"Relative error on q: $(q_relative_error(q_opt_BB_short_num))\")\n",
    "println()\n",
    "\n",
    "println(\"Standard gradient fixed steps\")\n",
    "println(\"Fitness value: $(J(u_opt_grad_fixed_steps_num))\")\n",
    "println(\"Relative error on u: $(norm(u_opt_grad_fixed_steps_num - u_target_num) / norm(u_target_num))\")\n",
    "println(\"Relative error on q: $(q_relative_error(q_opt_grad_fixed_steps_num))\")"
   ]
  },
  {
   "cell_type": "markdown",
   "metadata": {},
   "source": [
    "## Plots"
   ]
  },
  {
   "cell_type": "markdown",
   "metadata": {},
   "source": [
    "Computing the value of $J$ at each step of the optimization..."
   ]
  },
  {
   "cell_type": "code",
   "execution_count": 7,
   "metadata": {},
   "outputs": [],
   "source": [
    "J_results_BB_long = [J(u) for u in eachcol(u_results_BB_long)]\n",
    "J_results_BB_short = [J(u) for u in eachcol(u_results_BB_short)]\n",
    "J_results_grad_fixed_steps = [J(u) for u in eachcol(u_results_grad_fixed_steps)];"
   ]
  },
  {
   "cell_type": "markdown",
   "metadata": {},
   "source": [
    "... and plotting the results"
   ]
  },
  {
   "cell_type": "code",
   "execution_count": 8,
   "metadata": {},
   "outputs": [
    {
     "data": {
      "text/plain": [
       "\"/home/kevin/Uni/Tesi/thesis_code/results/figures/J(u)_vs_iter_gradien_steps_comparison.png\""
      ]
     },
     "execution_count": 8,
     "metadata": {},
     "output_type": "execute_result"
    }
   ],
   "source": [
    "p = plot(steps_to_eval, J_results_BB_long, label=\"Barzilai-Borwein long steps\")\n",
    "plot!(steps_to_eval, J_results_BB_short, label=\"Barzilai-Borwein short steps\")\n",
    "plot!(steps_to_eval, J_results_grad_fixed_steps, label=\"Gradient fixed steps\")\n",
    "\n",
    "title!(\"J(u) vs. number of iterations\")\n",
    "xlabel!(\"Iteration\")\n",
    "ylabel!(\"J\")\n",
    "\n",
    "# To limit the axis\n",
    "ylims!(0, 8)\n",
    "\n",
    "savefig(dir_for_figures*\"J(u)_vs_iter_gradien_steps_comparison.png\")\n"
   ]
  },
  {
   "cell_type": "markdown",
   "metadata": {},
   "source": [
    "Note that:\n",
    "\n",
    "- *Standard gradient fixed step*s does not converge\n",
    "- *Barzila-Borwein long steps* is less stable"
   ]
  }
 ],
 "metadata": {
  "kernelspec": {
   "display_name": "Julia 1.9.3",
   "language": "julia",
   "name": "julia-1.9"
  },
  "language_info": {
   "file_extension": ".jl",
   "mimetype": "application/julia",
   "name": "julia",
   "version": "1.9.3"
  }
 },
 "nbformat": 4,
 "nbformat_minor": 2
}
