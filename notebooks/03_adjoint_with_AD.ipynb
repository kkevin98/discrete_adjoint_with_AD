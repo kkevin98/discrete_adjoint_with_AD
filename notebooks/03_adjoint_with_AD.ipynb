{
 "cells": [
  {
   "cell_type": "code",
   "execution_count": 1,
   "metadata": {},
   "outputs": [],
   "source": [
    "include(\"../src/RadialBasisFunction.jl\")\n",
    "include(\"../src/DiscreteAdjoint.jl\")\n",
    "include(\"../src/GradientDescentTools.jl\")\n",
    "\n",
    "using LinearAlgebra, Zygote, Plots\n",
    "using .RadialBasisFunction\n",
    "using .DiscreteAdjoint\n",
    "using .GradientDescentTools\n",
    "\n",
    "const dir_for_figures = \"../results/figures/\";\n"
   ]
  },
  {
   "cell_type": "markdown",
   "metadata": {},
   "source": [
    "## Adjoint method applied to RBF approximation\n",
    "\n",
    "In this notebook, the parameter that we want to optimize, $b$, is geometric; so in this case we have $J(u,b)$ instead of $J(u, q)$  \n",
    "Note that each time $b$ is updated the shape of the object change"
   ]
  },
  {
   "cell_type": "code",
   "execution_count": 24,
   "metadata": {},
   "outputs": [],
   "source": [
    "a, b = 0, 2π\n",
    "N = 40\n",
    "\n",
    "# Points will change each time b will change\n",
    "X = range(a,b, length=N)\n",
    "boundary_idxs = [1, N]\n",
    "X_boundary = X[boundary_idxs]\n",
    "internal_idxs = 2:(N-1)\n",
    "X_internal = X[internal_idxs]\n",
    "\n",
    "q(x) = -sin.(x)  # Known in advance (param)\n",
    "boundary_conditions = [0, 0]  # Decided by us\n",
    "\n",
    "φ(r) = r .^ 3  # r = |x-x_i| ≥ 0\n",
    "ddφ(r) = 6*r   #second derivative d²/dx²\n",
    "\n",
    "n_points_in_stencil = 7\n",
    "\n",
    "C = global_matrix(X, φ, ddφ, n_points_in_stencil)\n",
    "u_approximated = solve_RBF(C, X, internal_idxs, boundary_idxs, boundary_conditions, q);"
   ]
  },
  {
   "cell_type": "code",
   "execution_count": 25,
   "metadata": {},
   "outputs": [],
   "source": [
    "# Defininig J (obj function)\n",
    "E = 2.0\n",
    "J(u_num, b) = 1/2 * ( b/(N-1) * sum(u_num) - E)^2  #* u_num is so small as if it does not exist\n",
    "\n",
    "# Initial values\n",
    "b_k = b\n",
    "u_k = u_approximated\n",
    "push!(u_k, boundary_conditions[end])\n",
    "pushfirst!(u_k, boundary_conditions[1]);\n",
    "\n",
    "# Define all the functions that will be used to compute dJdb\n",
    "φ(x_i,x_j) = abs(x_i - x_j) ^ 3\n",
    "dφdb(i,j) = 1/(N-1) * abs(i - j) ^ 3        # dφdb(i,j) = d/db [φ(xi(b),xj(b))]\n",
    "Δφ(x_i,x_j) = 6 * abs(x_i - x_j)            # Δφ(x,xj) = d²/dx² (φ(x,xj))\n",
    "dΔφdb(i,j) = 6 * 1/(N-1) * abs(i - j)       # dΔφdb(i,j) = d/db [d²/dx² (φ(x,xj))]\n",
    ";"
   ]
  },
  {
   "cell_type": "code",
   "execution_count": 26,
   "metadata": {},
   "outputs": [
    {
     "data": {
      "text/plain": [
       "2.051461849397822e-11"
      ]
     },
     "metadata": {},
     "output_type": "display_data"
    }
   ],
   "source": [
    "# The adjoint+AD procedure\n",
    "\n",
    "∂J∂u, ∂J∂b = gradient((u, b) -> J(u,b), u_k[internal_idxs], b_k)\n",
    "λ = C[internal_idxs, internal_idxs]' \\ ∂J∂u\n",
    "dCdb = zeros(size(C))\n",
    "\n",
    "#* It would be possible to cycle only on X_internal, but different indices would be needed\n",
    "for i ∈ eachindex(X)\n",
    "\n",
    "    # Since optimimzation is carried out only on internal points --> skip boundary points\n",
    "    if i ∈ boundary_idxs\n",
    "        continue\n",
    "    end\n",
    "\n",
    "\n",
    "    # Find the associated stencil's points\n",
    "    xi = X[i]\n",
    "    neighbours_idxs = nearest_neighbour_search(xi, X, n_points_in_stencil)\n",
    "    setdiff!(neighbours_idxs, boundary_idxs)\n",
    "\n",
    "\n",
    "    # Compute what is needed to compute ∂ci∂b\n",
    "    u_on_stencil = u_k[neighbours_idxs]\n",
    "\n",
    "    ci_of_strencil = C[i, neighbours_idxs]\n",
    "\n",
    "    dΨidb = dΔφdb.(fill(i, size(neighbours_idxs)), neighbours_idxs)\n",
    "\n",
    "    Φi = [φ(xi, xj) for xi in X[neighbours_idxs], xj in X[neighbours_idxs]]\n",
    "    Mi = Φi\n",
    "\n",
    "    dΦidb = [dφdb(i,j) for i in neighbours_idxs, j in neighbours_idxs]\n",
    "    dMidb = dΦidb\n",
    "\n",
    "\n",
    "    # Compute ∂ci∂b and fill the related matrix\n",
    "    dci_of_stencil_db = Mi' * (dΨidb - dMidb'*ci_of_strencil)\n",
    "    dCdb[i, neighbours_idxs] = dci_of_stencil_db\n",
    "\n",
    "end\n",
    "\n",
    "dJdb = ∂J∂b' - λ' * dCdb[internal_idxs, internal_idxs] * u_k[internal_idxs]\n"
   ]
  },
  {
   "cell_type": "code",
   "execution_count": 28,
   "metadata": {},
   "outputs": [
    {
     "data": {
      "text/plain": [
       "4.973799150320701e-8"
      ]
     },
     "metadata": {},
     "output_type": "display_data"
    }
   ],
   "source": [
    "h = 1e-6\n",
    "\n",
    "b_h = b + h\n",
    "\n",
    "# If b is changed by h --> also u changes (thus you need to solve again the RBF problem)\n",
    "X_h = range(a,b_h, length=N)\n",
    "X_boundary_h = X[boundary_idxs]\n",
    "X_internal_h = X[internal_idxs]\n",
    "\n",
    "# Needs to be redefined with r since were redefined outside\n",
    "φ(r) = r .^ 3  # r = |x-x_i| ≥ 0\n",
    "ddφ(r) = 6*r   #second derivative d²/dx² (because the differential problem deals with u\" = d²u/dx²)\n",
    "\n",
    "# Get the changed u as result of the changed b\n",
    "C_h = global_matrix(X_h, φ, ddφ, n_points_in_stencil)\n",
    "u_h = solve_RBF(C_h, X, internal_idxs, boundary_idxs, boundary_conditions, q);\n",
    "\n",
    "# Compute the finite difference\n",
    "dJdb = (J(u_h, b_h) - J(u_k, b)) / h"
   ]
  }
 ],
 "metadata": {
  "kernelspec": {
   "display_name": "Julia 1.9.3",
   "language": "julia",
   "name": "julia-1.9"
  },
  "language_info": {
   "file_extension": ".jl",
   "mimetype": "application/julia",
   "name": "julia",
   "version": "1.9.3"
  }
 },
 "nbformat": 4,
 "nbformat_minor": 2
}
