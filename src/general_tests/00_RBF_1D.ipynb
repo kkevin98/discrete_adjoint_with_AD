{
 "cells": [
  {
   "cell_type": "markdown",
   "metadata": {},
   "source": [
    "Imports"
   ]
  },
  {
   "cell_type": "code",
   "execution_count": 2,
   "metadata": {},
   "outputs": [],
   "source": [
    "using LinearAlgebra"
   ]
  },
  {
   "cell_type": "markdown",
   "metadata": {},
   "source": [
    "Known params and stuffs"
   ]
  },
  {
   "cell_type": "code",
   "execution_count": 1,
   "metadata": {},
   "outputs": [
    {
     "data": {
      "text/plain": [
       "0.0:0.3306939635357677:6.283185307179586"
      ]
     },
     "metadata": {},
     "output_type": "display_data"
    }
   ],
   "source": [
    "a = 0\n",
    "b = 2π\n",
    "\n",
    "# known by design, it is the f in RBF_in_depth paper\n",
    "q(x) = -sin.(x)\n",
    "\n",
    "# not known in reality\n",
    "# here we know it just for comparison\n",
    "u(x) = sin.(x)\n",
    "\n",
    "# known boundary conditions\n",
    "u_a = u(a)\n",
    "u_b = u(b)\n",
    "\n",
    "# creating the \"mesh\"\n",
    "N = 20\n",
    "X = range(a, b, length=N)"
   ]
  },
  {
   "cell_type": "code",
   "execution_count": 6,
   "metadata": {},
   "outputs": [
    {
     "data": {
      "text/plain": [
       "20-element Vector{Float64}:\n",
       "  0.0\n",
       "  0.10935849751899565\n",
       "  0.4374339900759826\n",
       "  0.9842264776709609\n",
       "  1.7497359603039304\n",
       "  2.7339624379748915\n",
       "  3.9369059106838438\n",
       "  5.358566378430787\n",
       "  6.998943841215722\n",
       "  8.858038299038649\n",
       " 10.935849751899566\n",
       " 13.232378199798475\n",
       " 15.747623642735375\n",
       " 18.48158608071026\n",
       " 21.434265513723147\n",
       " 24.60566194177402\n",
       " 27.995775364862887\n",
       " 31.604605782989744\n",
       " 35.432153196154594\n",
       " 39.47841760435743"
      ]
     },
     "metadata": {},
     "output_type": "display_data"
    }
   ],
   "source": [
    "X.^2"
   ]
  },
  {
   "cell_type": "markdown",
   "metadata": {},
   "source": [
    "Note that by now for sure you do not know:  \n",
    "- $u(x)$: the field you want to find \n",
    "- $(\\textbf{α}, \\textbf{β})$: the params of your interpolator\n"
   ]
  },
  {
   "cell_type": "code",
   "execution_count": 6,
   "metadata": {},
   "outputs": [
    {
     "name": "stdout",
     "output_type": "stream",
     "text": [
      "0.0:0.3306939635357677:6.283185307179586\n"
     ]
    }
   ],
   "source": [
    "println(X)"
   ]
  },
  {
   "cell_type": "markdown",
   "metadata": {},
   "source": [
    "A function to define the stencil around a point"
   ]
  },
  {
   "cell_type": "code",
   "execution_count": null,
   "metadata": {},
   "outputs": [],
   "source": []
  },
  {
   "cell_type": "code",
   "execution_count": null,
   "metadata": {},
   "outputs": [],
   "source": [
    "function nearest_neighbour_search(x0, x, n_neighbours)\n",
    "    return sortperm( abs.(x .- x0) )[1:n_neighbours]\n",
    "end"
   ]
  }
 ],
 "metadata": {
  "kernelspec": {
   "display_name": "Julia 1.9.3",
   "language": "julia",
   "name": "julia-1.9"
  },
  "language_info": {
   "file_extension": ".jl",
   "mimetype": "application/julia",
   "name": "julia",
   "version": "1.9.3"
  },
  "orig_nbformat": 4
 },
 "nbformat": 4,
 "nbformat_minor": 2
}
